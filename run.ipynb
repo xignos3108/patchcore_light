{
 "cells": [
  {
   "cell_type": "markdown",
   "id": "74c60616-08c2-43a4-a548-413deda470b9",
   "metadata": {},
   "source": [
    "# PatchCore"
   ]
  },
  {
   "cell_type": "code",
   "execution_count": 1,
   "id": "818c359d-add6-47d0-ac70-e724dba21a62",
   "metadata": {},
   "outputs": [
    {
     "name": "stderr",
     "output_type": "stream",
     "text": [
      "c:\\Users\\qlee\\anaconda3\\envs\\deeplearning\\lib\\site-packages\\tqdm\\auto.py:21: TqdmWarning: IProgress not found. Please update jupyter and ipywidgets. See https://ipywidgets.readthedocs.io/en/stable/user_install.html\n",
      "  from .autonotebook import tqdm as notebook_tqdm\n"
     ]
    }
   ],
   "source": [
    "import common\n",
    "import sampler\n",
    "import patchcore\n",
    "import backbones\n",
    "import utils"
   ]
  },
  {
   "cell_type": "code",
   "execution_count": 2,
   "id": "a278b2f1-5132-4a4f-9d10-f035e85408f3",
   "metadata": {},
   "outputs": [
    {
     "name": "stderr",
     "output_type": "stream",
     "text": [
      "Seed set to 826\n"
     ]
    }
   ],
   "source": [
    "import os\n",
    "\n",
    "# os.environ[\"CUDA_DEVICE_ORDER\"] = \"PCI_BUS_ID\"\n",
    "# os.environ[\"CUDA_VISIBLE_DEVICES\"] = \"0\"\n",
    "\n",
    "import random\n",
    "import numpy as np\n",
    "import pandas as pd\n",
    "import matplotlib.pyplot as plt\n",
    "import seaborn as sns\n",
    "import time\n",
    "# %matplotlib inline\n",
    "\n",
    "from sklearn.model_selection import KFold\n",
    "\n",
    "import torch\n",
    "import torch.nn as nn\n",
    "from torch.nn import functional as F\n",
    "from torch.utils.data import Dataset, DataLoader\n",
    "import pytorch_lightning as pl\n",
    "\n",
    "from PIL import Image\n",
    "from torchvision.transforms import v2\n",
    "\n",
    "import glob\n",
    "from tqdm import tqdm\n",
    "\n",
    "import warnings\n",
    "warnings.filterwarnings('ignore')\n",
    "\n",
    "from argparse import ArgumentParser\n",
    "\n",
    "parser = ArgumentParser(description=\"patchcore\")\n",
    "parser.add_argument('--image_size', default=224, type=int)\n",
    "parser.add_argument('--resize', default=128, type=int)\n",
    "parser.add_argument('--backbone', default='wideresnet101', type=str)\n",
    "parser.add_argument('--layers_to_extract_from', nargs='+', default=['layer3'], type=str)\n",
    "parser.add_argument('--pretrain_embed_dimension', default=1024, type=int)\n",
    "parser.add_argument('--target_embed_dimension', default=1024, type=int)\n",
    "parser.add_argument('--patchsize', default=3, type=int)\n",
    "parser.add_argument('--coreset_rate', default=0.01, type=float)\n",
    "parser.add_argument('--anomaly_scorer_num_nn', default=5, type=int)\n",
    "parser.add_argument('--batch_size', default=4, type=int)\n",
    "parser.add_argument('--cv', default=5, type=int)\n",
    "parser.add_argument('--seed', default=826, type=int)\n",
    "parser.add_argument('--device', nargs='+', default=[0], type=int)\n",
    "parser.add_argument('--num_workers', default=0, type=int)\n",
    "parser.add_argument('--num_data', default=100, type=int)\n",
    "args = parser.parse_args('')\n",
    "\n",
    "image_size = args.image_size\n",
    "resize = args.resize\n",
    "BATCH_SIZE = args.batch_size\n",
    "NUM_DATA= args.num_data\n",
    "CV = args.cv\n",
    "SEED = args.seed\n",
    "\n",
    "def set_seeds(seed=SEED):\n",
    "    np.random.seed(seed)\n",
    "    random.seed(seed)\n",
    "    torch.manual_seed(seed)\n",
    "    torch.cuda.manual_seed(seed)\n",
    "    torch.backends.cudnn.deterministic = True\n",
    "    torch.backends.cudnn.benchmark = False\n",
    "    pl.seed_everything(SEED)\n",
    "\n",
    "set_seeds()"
   ]
  },
  {
   "cell_type": "markdown",
   "id": "58a005f4-a519-4d1e-9e39-02ff63b4f735",
   "metadata": {},
   "source": [
    "## data_loader.py"
   ]
  },
  {
   "cell_type": "code",
   "execution_count": 3,
   "id": "b2f09bf7",
   "metadata": {},
   "outputs": [],
   "source": [
    "class AnomalyDataset(Dataset):\n",
    "    def __init__(self, transform=None, dir=\"../Data/mvtec/screw/train/good\", test=None):\n",
    "        super().__init__()\n",
    "        self.test = test        \n",
    "        self.transform = transform\n",
    "        self.list_dir = sorted(glob.glob(os.path.join(dir, \"*.png\")))[:NUM_DATA]\n",
    "        \n",
    "        # test시 img 당 시간 측정 위해\n",
    "        if test:\n",
    "            self.list_data = []\n",
    "            for idx, dir in enumerate(self.list_dir):\n",
    "                x = Image.open(dir).convert(\"RGB\")\n",
    "                if self.transform: x = self.transform(x)\n",
    "                \n",
    "                self.list_data.append(x)\n",
    "\n",
    "    def __len__(self):\n",
    "        return len(self.list_dir)\n",
    "    \n",
    "    def __getitem__(self, idx):\n",
    "        if self.test: x = self.list_data[idx]\n",
    "        else:\n",
    "            for idx, dir in enumerate(self.list_dir):\n",
    "                x = Image.open(dir).convert(\"RGB\")\n",
    "                if self.transform: x = self.transform(x)\n",
    "        return {\"image\": x}"
   ]
  },
  {
   "cell_type": "code",
   "execution_count": 4,
   "id": "b60c4597-b6e5-48b6-9bb7-a20ede34c811",
   "metadata": {},
   "outputs": [],
   "source": [
    "train_transform = v2.Compose([\n",
    "    v2.ToImage(),\n",
    "    v2.Resize(size=(resize, resize)),\n",
    "    v2.ToDtype(torch.float32, scale=True),\n",
    "    # v2.Normalize(mean=[0.485, 0.456, 0.406], std=[0.229, 0.224, 0.225]),\n",
    "])\n",
    "\n",
    "test_transform = v2.Compose([\n",
    "    v2.ToImage(),\n",
    "    v2.Resize(size=(resize, resize)),\n",
    "    v2.ToDtype(torch.float32, scale=True),\n",
    "    # v2.Normalize(mean=[0.485, 0.456, 0.406], std=[0.229, 0.224, 0.225]),\n",
    "])"
   ]
  },
  {
   "cell_type": "code",
   "execution_count": 5,
   "id": "6135784e",
   "metadata": {},
   "outputs": [],
   "source": [
    "train_dataset = AnomalyDataset(dir=\"../Data/mvtec/screw/train/good\", transform=train_transform)\n",
    "train_dataloader = DataLoader(train_dataset, batch_size=BATCH_SIZE, shuffle=True, num_workers=args.num_workers)\n",
    "\n",
    "valid_dataset = AnomalyDataset(dir=\"../Data/mvtec/screw/train/good\", transform=test_transform)\n",
    "valid_dataloader = DataLoader(valid_dataset, batch_size=BATCH_SIZE, shuffle=False, num_workers=args.num_workers)"
   ]
  },
  {
   "cell_type": "markdown",
   "id": "b2523acc-371a-467b-86ba-b93381084afb",
   "metadata": {},
   "source": [
    "## train"
   ]
  },
  {
   "cell_type": "code",
   "execution_count": 6,
   "id": "ff663d48-fcb7-4577-9f39-110a565f6c03",
   "metadata": {
    "scrolled": true
   },
   "outputs": [
    {
     "name": "stderr",
     "output_type": "stream",
     "text": [
      "                                                             "
     ]
    },
    {
     "name": "stdout",
     "output_type": "stream",
     "text": [
      "threshold: 1.1444091796875e-05\n"
     ]
    },
    {
     "name": "stderr",
     "output_type": "stream",
     "text": [
      "\r"
     ]
    }
   ],
   "source": [
    "device = utils.set_torch_device(gpu_ids=args.device)\n",
    "patch_core = patchcore.PatchCore(device)\n",
    "\n",
    "patch_core.load(\n",
    "    backbone                 = backbones.load(args.backbone),\n",
    "    layers_to_extract_from   = args.layers_to_extract_from,\n",
    "    device                   = device,\n",
    "    input_shape              = (3, image_size, image_size),\n",
    "    pretrain_embed_dimension = args.pretrain_embed_dimension,\n",
    "    target_embed_dimension   = args.target_embed_dimension,\n",
    "    patchsize                = args.patchsize,\n",
    "    anomaly_scorer_num_nn    = args.anomaly_scorer_num_nn,\n",
    "    featuresampler           = sampler.GreedyCoresetSampler(percentage=args.coreset_rate, device=device),\n",
    "    nn_method                = common.FaissNN(on_gpu=False, num_workers=args.num_workers)\n",
    ")\n",
    "\n",
    "# train\n",
    "patch_core.fit(train_dataloader)\n",
    "\n",
    "scores, _ = patch_core.predict(\n",
    "    valid_dataloader\n",
    ")\n",
    "\n",
    "threshold = np.max(scores)\n",
    "print(f\"threshold: {threshold}\")"
   ]
  },
  {
   "cell_type": "markdown",
   "id": "ba2293f3",
   "metadata": {},
   "source": [
    "## inference"
   ]
  },
  {
   "cell_type": "code",
   "execution_count": 7,
   "id": "020dc6cd",
   "metadata": {},
   "outputs": [
    {
     "name": "stderr",
     "output_type": "stream",
     "text": [
      "                                                             "
     ]
    },
    {
     "name": "stdout",
     "output_type": "stream",
     "text": [
      "Avg Prediction Time: 0.025609\n"
     ]
    },
    {
     "name": "stderr",
     "output_type": "stream",
     "text": [
      "\r"
     ]
    }
   ],
   "source": [
    "test_dataset = AnomalyDataset(dir=\"../Data/mvtec/screw/test/scratch_head\", transform=test_transform, test=True)\n",
    "test_dataloader = DataLoader(test_dataset, batch_size=1, shuffle=False, num_workers=args.num_workers)\n",
    "\n",
    "threshold_list = [] \n",
    "scores_list = [] \n",
    "\n",
    "# inference\n",
    "start = time.time()\n",
    "scores, _ = patch_core.predict(\n",
    "    test_dataloader\n",
    ")\n",
    "print(f\"Avg Prediction Time: {(time.time() - start) / len(test_dataloader) :.6f}\")\n",
    "\n",
    "threshold_list.append(threshold)\n",
    "scores_list.append(scores)"
   ]
  },
  {
   "cell_type": "code",
   "execution_count": 8,
   "id": "4796ce0b-353b-484a-ba4b-034e40ae6e23",
   "metadata": {},
   "outputs": [
    {
     "name": "stdout",
     "output_type": "stream",
     "text": [
      "threshold: 1.1444091796875e-05\n",
      "n_anomaly: 24\n"
     ]
    }
   ],
   "source": [
    "threshold = np.mean(threshold_list)\n",
    "print(f\"threshold: {threshold}\")\n",
    "\n",
    "scores = np.max(scores_list, axis=0)\n",
    "prediction = np.where(scores<threshold, 0, 1)\n",
    "\n",
    "print(f\"n_anomaly: {np.sum(prediction)}\")"
   ]
  }
 ],
 "metadata": {
  "kernelspec": {
   "display_name": "deeplearning",
   "language": "python",
   "name": "python3"
  },
  "language_info": {
   "codemirror_mode": {
    "name": "ipython",
    "version": 3
   },
   "file_extension": ".py",
   "mimetype": "text/x-python",
   "name": "python",
   "nbconvert_exporter": "python",
   "pygments_lexer": "ipython3",
   "version": "3.8.19"
  }
 },
 "nbformat": 4,
 "nbformat_minor": 5
}
