{
 "cells": [
  {
   "cell_type": "markdown",
   "id": "74c60616-08c2-43a4-a548-413deda470b9",
   "metadata": {},
   "source": [
    "# PatchCore"
   ]
  },
  {
   "cell_type": "code",
   "execution_count": 1,
   "id": "818c359d-add6-47d0-ac70-e724dba21a62",
   "metadata": {},
   "outputs": [
    {
     "name": "stderr",
     "output_type": "stream",
     "text": [
      "c:\\Users\\qlee\\anaconda3\\envs\\deeplearning\\lib\\site-packages\\tqdm\\auto.py:21: TqdmWarning: IProgress not found. Please update jupyter and ipywidgets. See https://ipywidgets.readthedocs.io/en/stable/user_install.html\n",
      "  from .autonotebook import tqdm as notebook_tqdm\n"
     ]
    }
   ],
   "source": [
    "import common\n",
    "import sampler\n",
    "import patchcore\n",
    "import backbones\n",
    "import utils"
   ]
  },
  {
   "cell_type": "code",
   "execution_count": null,
   "id": "a278b2f1-5132-4a4f-9d10-f035e85408f3",
   "metadata": {},
   "outputs": [
    {
     "name": "stderr",
     "output_type": "stream",
     "text": [
      "Seed set to 826\n"
     ]
    }
   ],
   "source": [
    "import os\n",
    "\n",
    "import random\n",
    "import numpy as np\n",
    "import pandas as pd\n",
    "import matplotlib.pyplot as plt\n",
    "import seaborn as sns\n",
    "import time\n",
    "\n",
    "import torch\n",
    "import torch.nn as nn\n",
    "from torch.nn import functional as F\n",
    "from torch.utils.data import Dataset, DataLoader\n",
    "import pytorch_lightning as pl\n",
    "\n",
    "\n",
    "from PIL import Image\n",
    "from torchvision import transforms\n",
    "\n",
    "import glob\n",
    "from tqdm import tqdm\n",
    "\n",
    "import warnings\n",
    "warnings.filterwarnings('ignore')\n",
    "\n",
    "from argparse import ArgumentParser\n",
    "\n",
    "parser = ArgumentParser(description=\"patchcore\")\n",
    "parser.add_argument('--image_size', default=224, type=int) # 224\n",
    "parser.add_argument('--resize', default=256, type=int) # 256\n",
    "parser.add_argument('--backbone', default='wideresnet50', type=str) \n",
    "parser.add_argument('--layers_to_extract_from', nargs='+', default=['layer2', 'layer3'], type=str)\n",
    "parser.add_argument('--pretrain_embed_dimension', default=1024, type=int)\n",
    "parser.add_argument('--target_embed_dimension', default=1024, type=int)\n",
    "parser.add_argument('--patchsize', default=3, type=int)\n",
    "parser.add_argument('--coreset_rate', default=0.1, type=float)\n",
    "parser.add_argument('--anomaly_scorer_num_nn', default=1, type=int)\n",
    "parser.add_argument('--batch_size', default=2, type=int)\n",
    "parser.add_argument('--batch_size_inf', default=6, type=int)\n",
    "parser.add_argument('--augment', default=True, type=bool)\n",
    "parser.add_argument('--seed', default=826, type=int) \n",
    "parser.add_argument('--device', nargs='+', default=[0], type=int)\n",
    "parser.add_argument('--num_workers', default=0, type=int)\n",
    "parser.add_argument('--num_data', default=100, type=int)\n",
    "args = parser.parse_args('')\n",
    "\n",
    "image_size = args.image_size\n",
    "resize = args.resize\n",
    "BATCH_SIZE = args.batch_size\n",
    "BATCH_SIZE_INF = args.batch_size_inf\n",
    "NUM_DATA= args.num_data\n",
    "SEED = args.seed\n",
    "\n",
    "# create save path\n",
    "save_root = \"saved\"\n",
    "if not os.path.exists(save_root):\n",
    "    os.mkdir(save_root)\n",
    "\n",
    "def set_seeds(seed=SEED):\n",
    "    np.random.seed(seed)\n",
    "    random.seed(seed)\n",
    "    torch.manual_seed(seed)\n",
    "    torch.cuda.manual_seed(seed)\n",
    "    torch.backends.cudnn.deterministic = True\n",
    "    torch.backends.cudnn.benchmark = False\n",
    "    pl.seed_everything(SEED)\n",
    "\n",
    "set_seeds()"
   ]
  },
  {
   "cell_type": "markdown",
   "id": "58a005f4-a519-4d1e-9e39-02ff63b4f735",
   "metadata": {},
   "source": [
    "## data loader"
   ]
  },
  {
   "cell_type": "code",
   "execution_count": null,
   "id": "b2f09bf7",
   "metadata": {},
   "outputs": [],
   "source": [
    "class AnomalyDataset(Dataset):\n",
    "    def __init__(self, transform=None, dir=\"../Data/mvtec/screw/train/good\", test=None):\n",
    "        super().__init__()\n",
    "        self.test = test        \n",
    "        self.transform = transform\n",
    "        self.list_dir = sorted(glob.glob(os.path.join(dir, \"*.png\")))# [:NUM_DATA]\n",
    "        print(f\"num_data: {len(self.list_dir)}\")\n",
    "        \n",
    "        # test시 img 당 시간 측정 위해\n",
    "        if test:\n",
    "            self.list_data = []\n",
    "            for idx, dir in enumerate(self.list_dir):\n",
    "                x = Image.open(dir).convert(\"RGB\")\n",
    "                if self.transform: x = self.transform(x)\n",
    "                self.list_data.append(x)\n",
    "\n",
    "    def __len__(self):\n",
    "        return len(self.list_dir)\n",
    "    \n",
    "    def __getitem__(self, idx):\n",
    "        if self.test: x = self.list_data[idx]\n",
    "        else:\n",
    "            for idx, dir in enumerate(self.list_dir):\n",
    "                x = Image.open(dir).convert(\"RGB\")\n",
    "                if self.transform: x = self.transform(x)\n",
    "        return {\"image\": x}"
   ]
  },
  {
   "cell_type": "code",
   "execution_count": 4,
   "id": "b60c4597-b6e5-48b6-9bb7-a20ede34c811",
   "metadata": {},
   "outputs": [],
   "source": [
    "train_transform = transforms.Compose([\n",
    "    transforms.Resize(resize),\n",
    "    transforms.CenterCrop(image_size),\n",
    "    transforms.ToTensor(),\n",
    "    transforms.Normalize(mean=[0.485, 0.456, 0.406], std=[0.229, 0.224, 0.225]),\n",
    "])\n",
    "\n",
    "test_transform = transforms.Compose([\n",
    "    transforms.Resize(resize),\n",
    "    transforms.CenterCrop(image_size),\n",
    "    transforms.ToTensor(),\n",
    "    transforms.Normalize(mean=[0.485, 0.456, 0.406], std=[0.229, 0.224, 0.225]),\n",
    "])"
   ]
  },
  {
   "cell_type": "code",
   "execution_count": 5,
   "id": "6135784e",
   "metadata": {},
   "outputs": [
    {
     "name": "stdout",
     "output_type": "stream",
     "text": [
      "num_data: 100\n",
      "num_data: 41\n"
     ]
    }
   ],
   "source": [
    "train_dataset = AnomalyDataset(dir=\"../Data/mvtec/screw/train/good\", transform=train_transform)\n",
    "train_dataloader = DataLoader(train_dataset, \n",
    "                              batch_size=BATCH_SIZE, \n",
    "                              shuffle=False, \n",
    "                              num_workers=args.num_workers,\n",
    "                              pin_memory=True)\n",
    "\n",
    "valid_dataset = AnomalyDataset(dir=\"../Data/mvtec/screw/test/good\", transform=test_transform)\n",
    "valid_dataloader = DataLoader(valid_dataset, \n",
    "                              batch_size=BATCH_SIZE, \n",
    "                              shuffle=False, \n",
    "                              num_workers=args.num_workers,\n",
    "                              pin_memory=True)"
   ]
  },
  {
   "cell_type": "markdown",
   "id": "b2523acc-371a-467b-86ba-b93381084afb",
   "metadata": {},
   "source": [
    "## train"
   ]
  },
  {
   "cell_type": "code",
   "execution_count": 6,
   "id": "ff663d48-fcb7-4577-9f39-110a565f6c03",
   "metadata": {
    "scrolled": true
   },
   "outputs": [],
   "source": [
    "device = utils.set_torch_device(gpu_ids=args.device)\n",
    "patch_core = patchcore.PatchCore(device)\n",
    "\n",
    "patch_core.load(\n",
    "    backbone                 = args.backbone,\n",
    "    layers_to_extract_from   = args.layers_to_extract_from,\n",
    "    device                   = device,\n",
    "    input_shape              = (3, image_size, image_size),\n",
    "    pretrain_embed_dimension = args.pretrain_embed_dimension,\n",
    "    target_embed_dimension   = args.target_embed_dimension,\n",
    "    patchsize                = args.patchsize,\n",
    "    anomaly_scorer_num_nn    = args.anomaly_scorer_num_nn,\n",
    "    featuresampler           = sampler.ApproximateGreedyCoresetSampler(percentage=args.coreset_rate, device=device),\n",
    "    nn_method                = common.FaissNN(on_gpu=False, num_workers=args.num_workers)\n",
    ")"
   ]
  },
  {
   "cell_type": "code",
   "execution_count": 7,
   "id": "68597e1e",
   "metadata": {},
   "outputs": [
    {
     "name": "stderr",
     "output_type": "stream",
     "text": []
    },
    {
     "ename": "KeyboardInterrupt",
     "evalue": "",
     "output_type": "error",
     "traceback": [
      "\u001b[1;31m---------------------------------------------------------------------------\u001b[0m",
      "\u001b[1;31mKeyboardInterrupt\u001b[0m                         Traceback (most recent call last)",
      "Cell \u001b[1;32mIn[7], line 2\u001b[0m\n\u001b[0;32m      1\u001b[0m \u001b[38;5;66;03m# train\u001b[39;00m\n\u001b[1;32m----> 2\u001b[0m \u001b[43mpatch_core\u001b[49m\u001b[38;5;241;43m.\u001b[39;49m\u001b[43mfit\u001b[49m\u001b[43m(\u001b[49m\u001b[43mtrain_dataloader\u001b[49m\u001b[43m)\u001b[49m\n\u001b[0;32m      4\u001b[0m \u001b[38;5;66;03m# save model\u001b[39;00m\n\u001b[0;32m      5\u001b[0m patch_core\u001b[38;5;241m.\u001b[39msave_to_path(save_path\u001b[38;5;241m=\u001b[39msave_root)\n",
      "File \u001b[1;32mc:\\Users\\qlee\\Desktop\\Dev\\Patchcore\\patchcore.py:211\u001b[0m, in \u001b[0;36mPatchCore.fit\u001b[1;34m(self, training_data)\u001b[0m\n\u001b[0;32m    206\u001b[0m \u001b[38;5;28;01mdef\u001b[39;00m \u001b[38;5;21mfit\u001b[39m(\u001b[38;5;28mself\u001b[39m, training_data):\n\u001b[0;32m    207\u001b[0m \u001b[38;5;250m    \u001b[39m\u001b[38;5;124;03m\"\"\"PatchCore training.\u001b[39;00m\n\u001b[0;32m    208\u001b[0m \u001b[38;5;124;03m    This function computes the embeddings of the training data and fills the\u001b[39;00m\n\u001b[0;32m    209\u001b[0m \u001b[38;5;124;03m    memory bank of SPADE.\u001b[39;00m\n\u001b[0;32m    210\u001b[0m \u001b[38;5;124;03m    \"\"\"\u001b[39;00m\n\u001b[1;32m--> 211\u001b[0m     \u001b[38;5;28;43mself\u001b[39;49m\u001b[38;5;241;43m.\u001b[39;49m\u001b[43m_fill_memory_bank\u001b[49m\u001b[43m(\u001b[49m\u001b[43mtraining_data\u001b[49m\u001b[43m)\u001b[49m\n",
      "File \u001b[1;32mc:\\Users\\qlee\\Desktop\\Dev\\Patchcore\\patchcore.py:226\u001b[0m, in \u001b[0;36mPatchCore._fill_memory_bank\u001b[1;34m(self, input_data)\u001b[0m\n\u001b[0;32m    222\u001b[0m features \u001b[38;5;241m=\u001b[39m []\n\u001b[0;32m    223\u001b[0m \u001b[38;5;28;01mwith\u001b[39;00m tqdm\u001b[38;5;241m.\u001b[39mtqdm(\n\u001b[0;32m    224\u001b[0m     input_data, desc\u001b[38;5;241m=\u001b[39m\u001b[38;5;124m\"\u001b[39m\u001b[38;5;124mComputing support features...\u001b[39m\u001b[38;5;124m\"\u001b[39m, position\u001b[38;5;241m=\u001b[39m\u001b[38;5;241m1\u001b[39m, leave\u001b[38;5;241m=\u001b[39m\u001b[38;5;28;01mFalse\u001b[39;00m\n\u001b[0;32m    225\u001b[0m ) \u001b[38;5;28;01mas\u001b[39;00m data_iterator:\n\u001b[1;32m--> 226\u001b[0m     \u001b[38;5;28;01mfor\u001b[39;00m image \u001b[38;5;129;01min\u001b[39;00m data_iterator:\n\u001b[0;32m    227\u001b[0m         \u001b[38;5;28;01mif\u001b[39;00m \u001b[38;5;28misinstance\u001b[39m(image, \u001b[38;5;28mdict\u001b[39m):\n\u001b[0;32m    228\u001b[0m             image \u001b[38;5;241m=\u001b[39m image[\u001b[38;5;124m\"\u001b[39m\u001b[38;5;124mimage\u001b[39m\u001b[38;5;124m\"\u001b[39m]\n",
      "File \u001b[1;32mc:\\Users\\qlee\\anaconda3\\envs\\deeplearning\\lib\\site-packages\\tqdm\\std.py:1181\u001b[0m, in \u001b[0;36mtqdm.__iter__\u001b[1;34m(self)\u001b[0m\n\u001b[0;32m   1178\u001b[0m time \u001b[38;5;241m=\u001b[39m \u001b[38;5;28mself\u001b[39m\u001b[38;5;241m.\u001b[39m_time\n\u001b[0;32m   1180\u001b[0m \u001b[38;5;28;01mtry\u001b[39;00m:\n\u001b[1;32m-> 1181\u001b[0m     \u001b[38;5;28;01mfor\u001b[39;00m obj \u001b[38;5;129;01min\u001b[39;00m iterable:\n\u001b[0;32m   1182\u001b[0m         \u001b[38;5;28;01myield\u001b[39;00m obj\n\u001b[0;32m   1183\u001b[0m         \u001b[38;5;66;03m# Update and possibly print the progressbar.\u001b[39;00m\n\u001b[0;32m   1184\u001b[0m         \u001b[38;5;66;03m# Note: does not call self.update(1) for speed optimisation.\u001b[39;00m\n",
      "File \u001b[1;32mc:\\Users\\qlee\\anaconda3\\envs\\deeplearning\\lib\\site-packages\\torch\\utils\\data\\dataloader.py:630\u001b[0m, in \u001b[0;36m_BaseDataLoaderIter.__next__\u001b[1;34m(self)\u001b[0m\n\u001b[0;32m    627\u001b[0m \u001b[38;5;28;01mif\u001b[39;00m \u001b[38;5;28mself\u001b[39m\u001b[38;5;241m.\u001b[39m_sampler_iter \u001b[38;5;129;01mis\u001b[39;00m \u001b[38;5;28;01mNone\u001b[39;00m:\n\u001b[0;32m    628\u001b[0m     \u001b[38;5;66;03m# TODO(https://github.com/pytorch/pytorch/issues/76750)\u001b[39;00m\n\u001b[0;32m    629\u001b[0m     \u001b[38;5;28mself\u001b[39m\u001b[38;5;241m.\u001b[39m_reset()  \u001b[38;5;66;03m# type: ignore[call-arg]\u001b[39;00m\n\u001b[1;32m--> 630\u001b[0m data \u001b[38;5;241m=\u001b[39m \u001b[38;5;28;43mself\u001b[39;49m\u001b[38;5;241;43m.\u001b[39;49m\u001b[43m_next_data\u001b[49m\u001b[43m(\u001b[49m\u001b[43m)\u001b[49m\n\u001b[0;32m    631\u001b[0m \u001b[38;5;28mself\u001b[39m\u001b[38;5;241m.\u001b[39m_num_yielded \u001b[38;5;241m+\u001b[39m\u001b[38;5;241m=\u001b[39m \u001b[38;5;241m1\u001b[39m\n\u001b[0;32m    632\u001b[0m \u001b[38;5;28;01mif\u001b[39;00m \u001b[38;5;28mself\u001b[39m\u001b[38;5;241m.\u001b[39m_dataset_kind \u001b[38;5;241m==\u001b[39m _DatasetKind\u001b[38;5;241m.\u001b[39mIterable \u001b[38;5;129;01mand\u001b[39;00m \\\n\u001b[0;32m    633\u001b[0m         \u001b[38;5;28mself\u001b[39m\u001b[38;5;241m.\u001b[39m_IterableDataset_len_called \u001b[38;5;129;01mis\u001b[39;00m \u001b[38;5;129;01mnot\u001b[39;00m \u001b[38;5;28;01mNone\u001b[39;00m \u001b[38;5;129;01mand\u001b[39;00m \\\n\u001b[0;32m    634\u001b[0m         \u001b[38;5;28mself\u001b[39m\u001b[38;5;241m.\u001b[39m_num_yielded \u001b[38;5;241m>\u001b[39m \u001b[38;5;28mself\u001b[39m\u001b[38;5;241m.\u001b[39m_IterableDataset_len_called:\n",
      "File \u001b[1;32mc:\\Users\\qlee\\anaconda3\\envs\\deeplearning\\lib\\site-packages\\torch\\utils\\data\\dataloader.py:673\u001b[0m, in \u001b[0;36m_SingleProcessDataLoaderIter._next_data\u001b[1;34m(self)\u001b[0m\n\u001b[0;32m    671\u001b[0m \u001b[38;5;28;01mdef\u001b[39;00m \u001b[38;5;21m_next_data\u001b[39m(\u001b[38;5;28mself\u001b[39m):\n\u001b[0;32m    672\u001b[0m     index \u001b[38;5;241m=\u001b[39m \u001b[38;5;28mself\u001b[39m\u001b[38;5;241m.\u001b[39m_next_index()  \u001b[38;5;66;03m# may raise StopIteration\u001b[39;00m\n\u001b[1;32m--> 673\u001b[0m     data \u001b[38;5;241m=\u001b[39m \u001b[38;5;28;43mself\u001b[39;49m\u001b[38;5;241;43m.\u001b[39;49m\u001b[43m_dataset_fetcher\u001b[49m\u001b[38;5;241;43m.\u001b[39;49m\u001b[43mfetch\u001b[49m\u001b[43m(\u001b[49m\u001b[43mindex\u001b[49m\u001b[43m)\u001b[49m  \u001b[38;5;66;03m# may raise StopIteration\u001b[39;00m\n\u001b[0;32m    674\u001b[0m     \u001b[38;5;28;01mif\u001b[39;00m \u001b[38;5;28mself\u001b[39m\u001b[38;5;241m.\u001b[39m_pin_memory:\n\u001b[0;32m    675\u001b[0m         data \u001b[38;5;241m=\u001b[39m _utils\u001b[38;5;241m.\u001b[39mpin_memory\u001b[38;5;241m.\u001b[39mpin_memory(data, \u001b[38;5;28mself\u001b[39m\u001b[38;5;241m.\u001b[39m_pin_memory_device)\n",
      "File \u001b[1;32mc:\\Users\\qlee\\anaconda3\\envs\\deeplearning\\lib\\site-packages\\torch\\utils\\data\\_utils\\fetch.py:52\u001b[0m, in \u001b[0;36m_MapDatasetFetcher.fetch\u001b[1;34m(self, possibly_batched_index)\u001b[0m\n\u001b[0;32m     50\u001b[0m         data \u001b[38;5;241m=\u001b[39m \u001b[38;5;28mself\u001b[39m\u001b[38;5;241m.\u001b[39mdataset\u001b[38;5;241m.\u001b[39m__getitems__(possibly_batched_index)\n\u001b[0;32m     51\u001b[0m     \u001b[38;5;28;01melse\u001b[39;00m:\n\u001b[1;32m---> 52\u001b[0m         data \u001b[38;5;241m=\u001b[39m [\u001b[38;5;28mself\u001b[39m\u001b[38;5;241m.\u001b[39mdataset[idx] \u001b[38;5;28;01mfor\u001b[39;00m idx \u001b[38;5;129;01min\u001b[39;00m possibly_batched_index]\n\u001b[0;32m     53\u001b[0m \u001b[38;5;28;01melse\u001b[39;00m:\n\u001b[0;32m     54\u001b[0m     data \u001b[38;5;241m=\u001b[39m \u001b[38;5;28mself\u001b[39m\u001b[38;5;241m.\u001b[39mdataset[possibly_batched_index]\n",
      "File \u001b[1;32mc:\\Users\\qlee\\anaconda3\\envs\\deeplearning\\lib\\site-packages\\torch\\utils\\data\\_utils\\fetch.py:52\u001b[0m, in \u001b[0;36m<listcomp>\u001b[1;34m(.0)\u001b[0m\n\u001b[0;32m     50\u001b[0m         data \u001b[38;5;241m=\u001b[39m \u001b[38;5;28mself\u001b[39m\u001b[38;5;241m.\u001b[39mdataset\u001b[38;5;241m.\u001b[39m__getitems__(possibly_batched_index)\n\u001b[0;32m     51\u001b[0m     \u001b[38;5;28;01melse\u001b[39;00m:\n\u001b[1;32m---> 52\u001b[0m         data \u001b[38;5;241m=\u001b[39m [\u001b[38;5;28;43mself\u001b[39;49m\u001b[38;5;241;43m.\u001b[39;49m\u001b[43mdataset\u001b[49m\u001b[43m[\u001b[49m\u001b[43midx\u001b[49m\u001b[43m]\u001b[49m \u001b[38;5;28;01mfor\u001b[39;00m idx \u001b[38;5;129;01min\u001b[39;00m possibly_batched_index]\n\u001b[0;32m     53\u001b[0m \u001b[38;5;28;01melse\u001b[39;00m:\n\u001b[0;32m     54\u001b[0m     data \u001b[38;5;241m=\u001b[39m \u001b[38;5;28mself\u001b[39m\u001b[38;5;241m.\u001b[39mdataset[possibly_batched_index]\n",
      "Cell \u001b[1;32mIn[3], line 24\u001b[0m, in \u001b[0;36mAnomalyDataset.__getitem__\u001b[1;34m(self, idx)\u001b[0m\n\u001b[0;32m     22\u001b[0m \u001b[38;5;28;01melse\u001b[39;00m:\n\u001b[0;32m     23\u001b[0m     \u001b[38;5;28;01mfor\u001b[39;00m idx, \u001b[38;5;28mdir\u001b[39m \u001b[38;5;129;01min\u001b[39;00m \u001b[38;5;28menumerate\u001b[39m(\u001b[38;5;28mself\u001b[39m\u001b[38;5;241m.\u001b[39mlist_dir):\n\u001b[1;32m---> 24\u001b[0m         x \u001b[38;5;241m=\u001b[39m \u001b[43mImage\u001b[49m\u001b[38;5;241;43m.\u001b[39;49m\u001b[43mopen\u001b[49m\u001b[43m(\u001b[49m\u001b[38;5;28;43mdir\u001b[39;49m\u001b[43m)\u001b[49m\u001b[38;5;241;43m.\u001b[39;49m\u001b[43mconvert\u001b[49m\u001b[43m(\u001b[49m\u001b[38;5;124;43m\"\u001b[39;49m\u001b[38;5;124;43mRGB\u001b[39;49m\u001b[38;5;124;43m\"\u001b[39;49m\u001b[43m)\u001b[49m\n\u001b[0;32m     25\u001b[0m         \u001b[38;5;28;01mif\u001b[39;00m \u001b[38;5;28mself\u001b[39m\u001b[38;5;241m.\u001b[39mtransform: x \u001b[38;5;241m=\u001b[39m \u001b[38;5;28mself\u001b[39m\u001b[38;5;241m.\u001b[39mtransform(x)\n\u001b[0;32m     26\u001b[0m \u001b[38;5;28;01mreturn\u001b[39;00m {\u001b[38;5;124m\"\u001b[39m\u001b[38;5;124mimage\u001b[39m\u001b[38;5;124m\"\u001b[39m: x}\n",
      "File \u001b[1;32mc:\\Users\\qlee\\anaconda3\\envs\\deeplearning\\lib\\site-packages\\PIL\\Image.py:1146\u001b[0m, in \u001b[0;36mImage.convert\u001b[1;34m(self, mode, matrix, dither, palette, colors)\u001b[0m\n\u001b[0;32m   1143\u001b[0m     dither \u001b[38;5;241m=\u001b[39m Dither\u001b[38;5;241m.\u001b[39mFLOYDSTEINBERG\n\u001b[0;32m   1145\u001b[0m \u001b[38;5;28;01mtry\u001b[39;00m:\n\u001b[1;32m-> 1146\u001b[0m     im \u001b[38;5;241m=\u001b[39m \u001b[38;5;28;43mself\u001b[39;49m\u001b[38;5;241;43m.\u001b[39;49m\u001b[43mim\u001b[49m\u001b[38;5;241;43m.\u001b[39;49m\u001b[43mconvert\u001b[49m\u001b[43m(\u001b[49m\u001b[43mmode\u001b[49m\u001b[43m,\u001b[49m\u001b[43m \u001b[49m\u001b[43mdither\u001b[49m\u001b[43m)\u001b[49m\n\u001b[0;32m   1147\u001b[0m \u001b[38;5;28;01mexcept\u001b[39;00m \u001b[38;5;167;01mValueError\u001b[39;00m:\n\u001b[0;32m   1148\u001b[0m     \u001b[38;5;28;01mtry\u001b[39;00m:\n\u001b[0;32m   1149\u001b[0m         \u001b[38;5;66;03m# normalize source image and try again\u001b[39;00m\n",
      "\u001b[1;31mKeyboardInterrupt\u001b[0m: "
     ]
    }
   ],
   "source": [
    "# train\n",
    "patch_core.fit(train_dataloader)\n",
    "\n",
    "# save model\n",
    "patch_core.save_to_path(save_path=save_root)"
   ]
  },
  {
   "cell_type": "code",
   "execution_count": null,
   "id": "03ca7a05",
   "metadata": {},
   "outputs": [],
   "source": [
    "# # load model\n",
    "# patch_core.load_from_path(load_path=save_root, \n",
    "#                           device=device, \n",
    "#                           nn_method=common.FaissNN(on_gpu=False, num_workers=args.num_workers))\n",
    "\n",
    "# validate for threshold\n",
    "scores, _ = patch_core.predict(valid_dataloader)\n",
    "\n",
    "threshold = np.max(scores)\n",
    "print(f\"threshold: {threshold}\")"
   ]
  },
  {
   "cell_type": "markdown",
   "id": "ba2293f3",
   "metadata": {},
   "source": [
    "## inference"
   ]
  },
  {
   "cell_type": "code",
   "execution_count": null,
   "id": "020dc6cd",
   "metadata": {},
   "outputs": [],
   "source": [
    "# screw: manipulated_front | scratch_head | scratch_neck | thread_side | thread_top\n",
    "# bottle: broken_large | broken_small | contamination\n",
    "# metal_nut: bent | color | flip | scratch\n",
    "test_dataset = AnomalyDataset(dir=\"../Data/mvtec/screw/test/manipulated_front\", transform=test_transform, test=True)\n",
    "test_dataloader = DataLoader(test_dataset, \n",
    "                             batch_size=BATCH_SIZE_INF, \n",
    "                             shuffle=False, \n",
    "                             num_workers=args.num_workers,\n",
    "                             pin_memory=True)\n",
    "\n",
    "threshold_list = [] \n",
    "scores_list = []\n",
    "seg_list = []\n",
    "\n",
    "# inference\n",
    "start = time.time()\n",
    "scores, seg = patch_core.predict(test_dataloader)\n",
    "print(f\"Avg Prediction Time: {(time.time() - start) / (len(test_dataloader) * BATCH_SIZE_INF) :.6f}\")\n",
    "\n",
    "threshold_list.append(threshold)\n",
    "scores_list.append(scores)\n",
    "seg_list.append(seg)"
   ]
  },
  {
   "cell_type": "code",
   "execution_count": null,
   "id": "b6b1f042",
   "metadata": {},
   "outputs": [],
   "source": [
    "threshold = np.mean(threshold_list)\n",
    "print(f\"threshold: {threshold}\")\n",
    "\n",
    "scores = np.max(scores_list, axis=0)\n",
    "prediction = np.where(scores<threshold, 0, 1)\n",
    "\n",
    "print(f\"n_anomaly: {np.sum(prediction)}\")"
   ]
  },
  {
   "cell_type": "code",
   "execution_count": null,
   "id": "3468f173",
   "metadata": {},
   "outputs": [],
   "source": [
    "# scores = np.array(scores_list)\n",
    "# min_scores = scores.min(axis=-1).reshape(-1, 1)\n",
    "# max_scores = scores.max(axis=-1).reshape(-1, 1)\n",
    "# scores = (scores - min_scores) / (max_scores - min_scores)\n",
    "# scores = np.mean(scores, axis=0)\n",
    "\n",
    "segmentations = np.array(seg_list)\n",
    "# min_scores = (segmentations.reshape(len(segmentations), -1).min(axis=-1).reshape(-1, 1, 1, 1))\n",
    "# max_scores = (segmentations.reshape(len(segmentations), -1).max(axis=-1).reshape(-1, 1, 1, 1))\n",
    "# segmentations = (segmentations - min_scores) / (max_scores - min_scores)\n",
    "segmentations = np.mean(segmentations, axis=0)\n",
    "\n",
    "imgs = [np.transpose(x, (1, 2, 0)) for x in test_dataset.list_data]"
   ]
  },
  {
   "cell_type": "code",
   "execution_count": null,
   "id": "ba30546b",
   "metadata": {},
   "outputs": [],
   "source": [
    "for idx in range(len(imgs)):\n",
    "    f, axes = plt.subplots(1, 2)\n",
    "    axes[0].imshow(imgs[idx])\n",
    "    axes[1].imshow(segmentations[idx])\n",
    "    f.tight_layout()"
   ]
  }
 ],
 "metadata": {
  "kernelspec": {
   "display_name": "deeplearning",
   "language": "python",
   "name": "python3"
  },
  "language_info": {
   "codemirror_mode": {
    "name": "ipython",
    "version": 3
   },
   "file_extension": ".py",
   "mimetype": "text/x-python",
   "name": "python",
   "nbconvert_exporter": "python",
   "pygments_lexer": "ipython3",
   "version": "3.8.19"
  }
 },
 "nbformat": 4,
 "nbformat_minor": 5
}
